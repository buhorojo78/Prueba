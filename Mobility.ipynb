{
 "cells": [
  {
   "cell_type": "markdown",
   "metadata": {},
   "source": [
    "## Lectura de datos"
   ]
  },
  {
   "cell_type": "code",
   "execution_count": 57,
   "metadata": {},
   "outputs": [],
   "source": [
    "import psycopg2\n",
    "import sys\n",
    "import pprint\n",
    "from datetime import date, timedelta\n",
    "import pandas as pd\n",
    "import numpy as np\n",
    "\n",
    "import matplotlib.pyplot as plt"
   ]
  },
  {
   "cell_type": "code",
   "execution_count": 2,
   "metadata": {},
   "outputs": [
    {
     "name": "stdout",
     "output_type": "stream",
     "text": [
      "         id     client_id                      date   mcc country_code  \\\n",
      "0  73330955  p3pc4ImsGLE= 2017-06-13 23:48:57+00:00  7996           PE   \n",
      "1  73331210  mFivCS2tCuA= 2017-06-21 21:09:15+00:00  4511           PE   \n",
      "2  73331346  ZdGcYMCxHGA= 2017-06-25 00:01:55+00:00  4511           PE   \n",
      "3  73331370  6jQJ6yBj+B4= 2017-06-05 14:21:42+00:00  4511           PE   \n",
      "4  73331402  Qll2ycqmBXQ= 2017-06-17 15:47:44+00:00  4511           PE   \n",
      "5  73331983  rMgexgf7cpA= 2017-06-30 11:17:30+00:00  5541           PE   \n",
      "6  73332896  wI2/xls1yZM= 2017-06-25 18:24:01+00:00  5812           PE   \n",
      "7  73333370  qxFKbKdUOYQ= 2017-06-18 13:32:46+00:00  5814           PE   \n",
      "8  73333597  Trop8fKtxtk= 2017-06-24 21:43:23+00:00  7995           PE   \n",
      "9  73333605  /u1KJSzj8Bo= 2017-06-14 08:36:55+00:00  7995           PE   \n",
      "\n",
      "   amount_sol  amount_usd  nb_transaction  client_age client_gender  \\\n",
      "0       68.00   20.967528               1          36             F   \n",
      "1       29.50    9.096207               1          60             F   \n",
      "2       98.34   30.322746               1          57             M   \n",
      "3      150.16   46.301235               1          43             M   \n",
      "4      238.89   73.660776               1          35             M   \n",
      "5      150.27   46.335153               1          31             M   \n",
      "6      144.00   44.401824               1          35             M   \n",
      "7       58.90   18.161579               1          37             F   \n",
      "8      200.00   61.669200               1          41             M   \n",
      "9     1000.00  308.346000               1          70             M   \n",
      "\n",
      "         ...        merchant_id              merchant_name  \\\n",
      "0        ...           34206252           HAPPYLAND QUINDE   \n",
      "1        ...           34286880                    STAR UP   \n",
      "2        ...           34286882             CE   STAR PERU   \n",
      "3        ...           34286882             CE   STAR PERU   \n",
      "4        ...           34286882             CE   STAR PERU   \n",
      "5        ...           34308130  SERVICENTRO SANTA CECILIA   \n",
      "6        ...           34515031  LAS TINAJAS CHICKEN DELIV   \n",
      "7        ...           34516110                  TOLENTINO   \n",
      "8        ...           34666260      GOLDEN INVESTMENT S.A   \n",
      "9        ...           34666260      GOLDEN INVESTMENT S.A   \n",
      "\n",
      "                          merchant_type merchant_geoid merchant_departement  \\\n",
      "0                 Parque de diversiones         100101              HUÁNUCO   \n",
      "1                      Transporte Aereo         220901           SAN MARTIN   \n",
      "2                      Transporte Aereo         150122                 LIMA   \n",
      "3                      Transporte Aereo         150122                 LIMA   \n",
      "4                      Transporte Aereo         150122                 LIMA   \n",
      "5                      Grifos, servicio         150121                 LIMA   \n",
      "6                           Restaurants         150130                 LIMA   \n",
      "7  Cafeterias, snacks, servicio express         150103                 LIMA   \n",
      "8              Casinos y juegos de azar         150131                 LIMA   \n",
      "9              Casinos y juegos de azar         150131                 LIMA   \n",
      "\n",
      "  merchant_province merchant_district merchant_lon merchant_lat  \\\n",
      "0           HUANUCO           Huanuco          NaN          NaN   \n",
      "1        SAN MARTIN          Tarapoto    -6.488404   -76.359760   \n",
      "2              LIMA        Miraflores   -12.116829   -77.037227   \n",
      "3              LIMA        Miraflores   -12.116829   -77.037227   \n",
      "4              LIMA        Miraflores   -12.116829   -77.037227   \n",
      "5              LIMA      PUEBLO LIBRE   -12.072641   -77.057444   \n",
      "6              LIMA         San Borja          NaN          NaN   \n",
      "7              LIMA               Ate   -12.055728   -76.940618   \n",
      "8              LIMA        San Isidro   -12.094760   -77.021152   \n",
      "9              LIMA        San Isidro   -12.094760   -77.021152   \n",
      "\n",
      "  merchant_isonline  \n",
      "0              None  \n",
      "1              None  \n",
      "2              None  \n",
      "3              None  \n",
      "4              None  \n",
      "5              None  \n",
      "6              None  \n",
      "7              None  \n",
      "8              None  \n",
      "9              None  \n",
      "\n",
      "[10 rows x 27 columns]\n"
     ]
    }
   ],
   "source": [
    "#Connection to server\n",
    "def conectionDB():\n",
    "   conn_string = \"dbname='stic' port='5432' user='stic' password='stic2019' host='172.17.1.51'\";\n",
    "   #print (\"Connecting to database ->{}\".format(conn_string))\n",
    "   conn = psycopg2.connect(conn_string);\n",
    "   return conn\n",
    "\n",
    "\n",
    "#Create a simple query\n",
    "conn = conectionDB()\n",
    "cursor = conn.cursor();\n",
    "\n",
    "query = \"\"\"\n",
    "SELECT *\n",
    "FROM BBVA\n",
    "LIMIT 10;\n",
    "\"\"\"\n",
    "\n",
    "cursor.execute(query);\n",
    "rows = cursor.fetchall()\n",
    "df = pd.read_sql(query, conn) # storing the query in a pandas dataframe\n",
    "print(df)"
   ]
  },
  {
   "cell_type": "markdown",
   "metadata": {},
   "source": [
    "## Análisis Exploratorio"
   ]
  },
  {
   "cell_type": "code",
   "execution_count": 3,
   "metadata": {},
   "outputs": [
    {
     "name": "stdout",
     "output_type": "stream",
     "text": [
      "[116857449, 116857449, 116857449, 95854910, 102730751, 116857449, 116857449, 116857449, 106391803, 116857449, 116857449, 116857449, 106315657, 106315657, 106315657, 80682210, 116857449, 116857449, 116857449, 116857449, 116857449, 116857449, 116857449, 71202986, 42850193, 42850193, 0]\n"
     ]
    }
   ],
   "source": [
    "#Create a simple query\n",
    "conn = conectionDB()\n",
    "cursor = conn.cursor();\n",
    "\n",
    "str1 = \"SELECT COUNT\"\n",
    "str2 = \" FROM BBVA;\"\n",
    "no_nulos = []\n",
    "\n",
    "for var in df.columns:\n",
    "    query = str1+\"(\"+var+\")\"+str2\n",
    "    cursor.execute(query);\n",
    "    rows = cursor.fetchall()\n",
    "    data = pd.read_sql(query, conn)\n",
    "    no_nulos.append(data.loc[0,'count'])\n",
    "    \n",
    "#cursor.execute(query);\n",
    "#rows = cursor.fetchall()\n",
    "#datos = pd.read_sql(query, conn) # storing the query in a pandas dataframe\n",
    "#print(datos)\n",
    "print(no_nulos)"
   ]
  },
  {
   "cell_type": "code",
   "execution_count": 4,
   "metadata": {},
   "outputs": [
    {
     "name": "stdout",
     "output_type": "stream",
     "text": [
      "                variable  num_no_nulos  porc_nulos\n",
      "0                     id     116857449    0.000000\n",
      "1              client_id     116857449    0.000000\n",
      "2                   date     116857449    0.000000\n",
      "3                    mcc      95854910   17.972786\n",
      "4           country_code     102730751   12.088830\n",
      "5             amount_sol     116857449    0.000000\n",
      "6             amount_usd     116857449    0.000000\n",
      "7         nb_transaction     116857449    0.000000\n",
      "8             client_age     106391803    8.955908\n",
      "9          client_gender     116857449    0.000000\n",
      "10            debit_type     116857449    0.000000\n",
      "11             agency_id     116857449    0.000000\n",
      "12    agency_departement     106315657    9.021070\n",
      "13       agency_province     106315657    9.021070\n",
      "14       agency_district     106315657    9.021070\n",
      "15           agency_lima      80682210   30.956725\n",
      "16         agency_region     116857449    0.000000\n",
      "17           merchant_id     116857449    0.000000\n",
      "18         merchant_name     116857449    0.000000\n",
      "19         merchant_type     116857449    0.000000\n",
      "20        merchant_geoid     116857449    0.000000\n",
      "21  merchant_departement     116857449    0.000000\n",
      "22     merchant_province     116857449    0.000000\n",
      "23     merchant_district      71202986   39.068509\n",
      "24          merchant_lon      42850193   63.331227\n",
      "25          merchant_lat      42850193   63.331227\n",
      "26     merchant_isonline             0  100.000000\n"
     ]
    }
   ],
   "source": [
    "data_tuples = list(zip(df.columns,no_nulos))\n",
    "tabla = pd.DataFrame(data_tuples,columns=['variable','num_no_nulos'])\n",
    "porc_nulos = []\n",
    "maxi = max(tabla['num_no_nulos'])\n",
    "for val in tabla['num_no_nulos']:\n",
    "    porc_nulos.append(((maxi-val)/maxi)*100)\n",
    "\n",
    "tabla['porc_nulos'] = porc_nulos    \n",
    "print(tabla)"
   ]
  },
  {
   "cell_type": "code",
   "execution_count": 5,
   "metadata": {},
   "outputs": [
    {
     "name": "stdout",
     "output_type": "stream",
     "text": [
      "       merchant_district     count\n",
      "0      Santiago De Surco   3680261\n",
      "1   San Juan De Luriganc   1011841\n",
      "2                  Brena    373390\n",
      "3             Carabayllo     42219\n",
      "4             Miraflores  14706933\n",
      "5             San Miguel   1542658\n",
      "6      Magdalena Del Mar   3366578\n",
      "7            El Agustino    106461\n",
      "8   Villa Maria Del Triu     95068\n",
      "9             Lurigancho     80733\n",
      "10             La Molina    668598\n",
      "11           Punta Negra     27043\n",
      "12           Cieneguilla     34565\n",
      "13         Independencia    577270\n",
      "14                 Comas    214846\n",
      "15           La Victoria    460361\n",
      "16                 Lurin    175371\n",
      "17                 Rimac    700007\n",
      "18           Jesus Maria    644481\n",
      "19             Surquillo    855908\n",
      "20             San Borja   5228944\n",
      "21              Pucusana      5790\n",
      "22                   Ate    882571\n",
      "23           Santa Anita    280398\n",
      "24                 Lince    471301\n",
      "25         Punta Hermosa    110386\n",
      "26            Santa Rosa      4431\n",
      "27            Los Olivos    384481\n",
      "28            San Isidro   4877320\n",
      "29           San Bartolo     15505\n",
      "30  San Martin De Porres    598338\n",
      "31          PUEBLO LIBRE   2203456\n",
      "32                 Ancon     12006\n",
      "33     Villa El Salvador    261201\n",
      "34            Pachacamac    177949\n",
      "35            Chorrillos    891978\n",
      "36              San Luis    130553\n",
      "37                  Lima   2077489\n",
      "38  San Juan De Miraflor   1122834\n",
      "39            Chaclacayo     61232\n",
      "40         Puente Piedra    285615\n",
      "41              Barranco    776905\n",
      "42   Santa Maria Del Mar      7776\n"
     ]
    }
   ],
   "source": [
    "#Consulta para obtener el número de transacciones realizadas en cada distrito\n",
    "conn = conectionDB()\n",
    "cursor = conn.cursor();\n",
    "\n",
    "query = \"\"\"\n",
    "SELECT merchant_district, COUNT(*)\n",
    "FROM BBVA\n",
    "WHERE merchant_province = 'LIMA'\n",
    "GROUP BY merchant_district;\n",
    "\"\"\"\n",
    "\n",
    "cursor.execute(query);\n",
    "rows = cursor.fetchall()\n",
    "distritos = pd.read_sql(query, conn) # storing the query in a pandas dataframe\n",
    "print(distritos)"
   ]
  },
  {
   "cell_type": "code",
   "execution_count": 6,
   "metadata": {},
   "outputs": [
    {
     "data": {
      "text/plain": [
       "([<matplotlib.axis.XTick at 0x25ebfdc0710>,\n",
       "  <matplotlib.axis.XTick at 0x25eb350b160>,\n",
       "  <matplotlib.axis.XTick at 0x25ebfdee710>,\n",
       "  <matplotlib.axis.XTick at 0x25ebfe669b0>,\n",
       "  <matplotlib.axis.XTick at 0x25ebfe70080>,\n",
       "  <matplotlib.axis.XTick at 0x25ebfe70710>,\n",
       "  <matplotlib.axis.XTick at 0x25ebfe70da0>,\n",
       "  <matplotlib.axis.XTick at 0x25ebdd8ae80>,\n",
       "  <matplotlib.axis.XTick at 0x25ebfe86278>,\n",
       "  <matplotlib.axis.XTick at 0x25ebfe868d0>,\n",
       "  <matplotlib.axis.XTick at 0x25ebfe86f60>,\n",
       "  <matplotlib.axis.XTick at 0x25ebfe8b630>,\n",
       "  <matplotlib.axis.XTick at 0x25ebfe8bcc0>,\n",
       "  <matplotlib.axis.XTick at 0x25ebfe76ef0>,\n",
       "  <matplotlib.axis.XTick at 0x25ebfe914e0>,\n",
       "  <matplotlib.axis.XTick at 0x25ebfe91b70>,\n",
       "  <matplotlib.axis.XTick at 0x25ebfe97240>,\n",
       "  <matplotlib.axis.XTick at 0x25ebfe978d0>,\n",
       "  <matplotlib.axis.XTick at 0x25ebfe97f60>,\n",
       "  <matplotlib.axis.XTick at 0x25ebfe9e630>,\n",
       "  <matplotlib.axis.XTick at 0x25ebfe9ecc0>,\n",
       "  <matplotlib.axis.XTick at 0x25ebfea2390>,\n",
       "  <matplotlib.axis.XTick at 0x25ebfea2a20>,\n",
       "  <matplotlib.axis.XTick at 0x25ebfea90f0>,\n",
       "  <matplotlib.axis.XTick at 0x25ebfea9780>,\n",
       "  <matplotlib.axis.XTick at 0x25ebfea9e10>,\n",
       "  <matplotlib.axis.XTick at 0x25ebfeb04e0>,\n",
       "  <matplotlib.axis.XTick at 0x25ebfeb0b70>,\n",
       "  <matplotlib.axis.XTick at 0x25ebfeb6240>,\n",
       "  <matplotlib.axis.XTick at 0x25ebfeb68d0>,\n",
       "  <matplotlib.axis.XTick at 0x25ebfeb6f60>,\n",
       "  <matplotlib.axis.XTick at 0x25ebfebc630>,\n",
       "  <matplotlib.axis.XTick at 0x25ebfebccc0>,\n",
       "  <matplotlib.axis.XTick at 0x25ebfec1390>,\n",
       "  <matplotlib.axis.XTick at 0x25ebfec1a20>,\n",
       "  <matplotlib.axis.XTick at 0x25ebfec80f0>,\n",
       "  <matplotlib.axis.XTick at 0x25ebfec8780>,\n",
       "  <matplotlib.axis.XTick at 0x25ebfec8e10>,\n",
       "  <matplotlib.axis.XTick at 0x25ebfecf4e0>,\n",
       "  <matplotlib.axis.XTick at 0x25ebfecfb70>,\n",
       "  <matplotlib.axis.XTick at 0x25ebfed4240>,\n",
       "  <matplotlib.axis.XTick at 0x25ebfed48d0>,\n",
       "  <matplotlib.axis.XTick at 0x25ebfed4f60>],\n",
       " <a list of 43 Text xticklabel objects>)"
      ]
     },
     "execution_count": 6,
     "metadata": {},
     "output_type": "execute_result"
    },
    {
     "data": {
      "image/png": "[encoded data removed]",
      "text/plain": [
       "<matplotlib.figure.Figure at 0x25ebd973ba8>"
      ]
     },
     "metadata": {},
     "output_type": "display_data"
    }
   ],
   "source": [
    "#plt.figure(figsize=(20,20))\n",
    "distritos.plot(kind=\"bar\", figsize=(20,6), stacked=False)\n",
    "plt.xticks([r for r in range(len(distritos['merchant_district']))], distritos['merchant_district'], rotation=90)"
   ]
  },
  {
   "cell_type": "code",
   "execution_count": 9,
   "metadata": {},
   "outputs": [],
   "source": [
    "export_excel = distritos.to_excel (r'C:\\Users\\LENOVO\\Documents\\Maestría_Informática\\Trabajo_Final\\tabla_distritosVO.xlsx', index = None, header=True) "
   ]
  },
  {
   "cell_type": "markdown",
   "metadata": {},
   "source": [
    "### Comparación con Densidad Poblacional"
   ]
  },
  {
   "cell_type": "code",
   "execution_count": 11,
   "metadata": {},
   "outputs": [
    {
     "data": {
      "text/html": [
       "<div>\n",
       "<style scoped>\n",
       "    .dataframe tbody tr th:only-of-type {\n",
       "        vertical-align: middle;\n",
       "    }\n",
       "\n",
       "    .dataframe tbody tr th {\n",
       "        vertical-align: top;\n",
       "    }\n",
       "\n",
       "    .dataframe thead th {\n",
       "        text-align: right;\n",
       "    }\n",
       "</style>\n",
       "<table border=\"1\" class=\"dataframe\">\n",
       "  <thead>\n",
       "    <tr style=\"text-align: right;\">\n",
       "      <th></th>\n",
       "      <th>Poblacion</th>\n",
       "      <th>Dens_Pob</th>\n",
       "      <th>Porc_Pob</th>\n",
       "      <th>Num_Transacc</th>\n",
       "      <th>Porc_Transacc</th>\n",
       "    </tr>\n",
       "  </thead>\n",
       "  <tbody>\n",
       "    <tr>\n",
       "      <th>Lima</th>\n",
       "      <td>265693</td>\n",
       "      <td>12088</td>\n",
       "      <td>2.895882</td>\n",
       "      <td>2077489</td>\n",
       "      <td>4.135701</td>\n",
       "    </tr>\n",
       "    <tr>\n",
       "      <th>Ancón</th>\n",
       "      <td>41474</td>\n",
       "      <td>139</td>\n",
       "      <td>0.452040</td>\n",
       "      <td>12006</td>\n",
       "      <td>0.023901</td>\n",
       "    </tr>\n",
       "    <tr>\n",
       "      <th>Ate</th>\n",
       "      <td>661786</td>\n",
       "      <td>8515</td>\n",
       "      <td>7.213040</td>\n",
       "      <td>882571</td>\n",
       "      <td>1.756953</td>\n",
       "    </tr>\n",
       "    <tr>\n",
       "      <th>Barranco</th>\n",
       "      <td>28970</td>\n",
       "      <td>8700</td>\n",
       "      <td>0.315754</td>\n",
       "      <td>776905</td>\n",
       "      <td>1.546601</td>\n",
       "    </tr>\n",
       "    <tr>\n",
       "      <th>Breña</th>\n",
       "      <td>74711</td>\n",
       "      <td>23202</td>\n",
       "      <td>0.814302</td>\n",
       "      <td>373390</td>\n",
       "      <td>0.743315</td>\n",
       "    </tr>\n",
       "  </tbody>\n",
       "</table>\n",
       "</div>"
      ],
      "text/plain": [
       "          Poblacion  Dens_Pob  Porc_Pob  Num_Transacc  Porc_Transacc\n",
       "Lima         265693     12088  2.895882       2077489       4.135701\n",
       "Ancón         41474       139  0.452040         12006       0.023901\n",
       "Ate          661786      8515  7.213040        882571       1.756953\n",
       "Barranco      28970      8700  0.315754        776905       1.546601\n",
       "Breña         74711     23202  0.814302        373390       0.743315"
      ]
     },
     "execution_count": 11,
     "metadata": {},
     "output_type": "execute_result"
    }
   ],
   "source": [
    "datos_distritos = pd.read_excel (r'C:\\Users\\LENOVO\\Documents\\Maestría_Informática\\Trabajo_Final\\tabla_distritos.xlsx', sheet_name='Hoja1')\n",
    "datos_distritos.head()  "
   ]
  },
  {
   "cell_type": "markdown",
   "metadata": {},
   "source": [
    "La siguiente gráfica muestra la relación entre el porcentaje de población en cada distrito y el porcentaje de transacciones que se realizan en los mismos. La línea roja corresponde a una correlación lineal que se obtendría si ambos porcentajes coincidieran en cada distrito."
   ]
  },
  {
   "cell_type": "code",
   "execution_count": 20,
   "metadata": {},
   "outputs": [
    {
     "data": {
      "image/png": "[encoded data removed]",
      "text/plain": [
       "<matplotlib.figure.Figure at 0x25ec17ed9b0>"
      ]
     },
     "metadata": {},
     "output_type": "display_data"
    }
   ],
   "source": [
    "#from numpy.polynomial.polynomial import polyfit\n",
    "x = datos_distritos['Porc_Pob']\n",
    "y = datos_distritos['Porc_Transacc']\n",
    "plt.plot(x, y, 'o', color='black')\n",
    "plt.plot(x, x, '-r')\n",
    "plt.xlabel('% de población por distrito')\n",
    "plt.ylabel('% de transacciones por distrito')\n",
    "\n",
    "#b, m = polyfit(x, y, 1)\n",
    "#plt.plot(x, b + m * x, '-')\n",
    "plt.show()"
   ]
  },
  {
   "cell_type": "code",
   "execution_count": 26,
   "metadata": {},
   "outputs": [
    {
     "name": "stdout",
     "output_type": "stream",
     "text": [
      "                        min                       max\n",
      "0 2016-05-31 22:00:00+00:00 2017-10-31 22:59:59+00:00\n"
     ]
    }
   ],
   "source": [
    "#Consulta para obtener el intervalo en el que están comprendidas las fechas\n",
    "conn = conectionDB()\n",
    "cursor = conn.cursor();\n",
    "\n",
    "query = \"\"\"\n",
    "SELECT MIN(date), MAX(date)\n",
    "FROM BBVA;\n",
    "\"\"\"\n",
    "\n",
    "cursor.execute(query);\n",
    "rows = cursor.fetchall()\n",
    "fechas = pd.read_sql(query, conn) # storing the query in a pandas dataframe\n",
    "print(fechas)"
   ]
  },
  {
   "cell_type": "code",
   "execution_count": 31,
   "metadata": {},
   "outputs": [
    {
     "name": "stdout",
     "output_type": "stream",
     "text": [
      "       merchant_district  count\n",
      "0      Villa El Salvador    580\n",
      "1             Lurigancho    182\n",
      "2            Cieneguilla     43\n",
      "3            San Bartolo     20\n",
      "4   San Martin De Porres   1410\n",
      "5             Chaclacayo    118\n",
      "6          Puente Piedra    706\n",
      "7               Barranco   1362\n",
      "8    Santa Maria Del Mar      7\n",
      "9             Chorrillos   1980\n",
      "10              San Luis    281\n",
      "11                  Lima   4668\n",
      "12  San Juan De Miraflor   2281\n",
      "13         Independencia   1252\n",
      "14                 Comas    473\n",
      "15            San Miguel   3166\n",
      "16     Magdalena Del Mar   7756\n",
      "17           El Agustino    241\n",
      "18  Villa Maria Del Triu    212\n",
      "19          PUEBLO LIBRE   4672\n",
      "20                 Ancon     21\n",
      "21  San Juan De Luriganc   2407\n",
      "22                 Brena    687\n",
      "23            Carabayllo    147\n",
      "24            Miraflores  31414\n",
      "25             San Borja  10887\n",
      "26              Pucusana     17\n",
      "27           Santa Anita    601\n",
      "28                   Ate   1981\n",
      "29     Santiago De Surco   7626\n",
      "30            Pachacamac    474\n",
      "31             La Molina   1613\n",
      "32           Punta Negra     32\n",
      "33            Santa Rosa     10\n",
      "34            Los Olivos    942\n",
      "35            San Isidro  11824\n",
      "36                 Lurin    443\n",
      "37           La Victoria    998\n",
      "38                 Rimac   1332\n",
      "39           Jesus Maria   1552\n",
      "40             Surquillo   1959\n",
      "41                 Lince   1188\n",
      "42         Punta Hermosa    203\n"
     ]
    }
   ],
   "source": [
    "#Consulta para obtener el número de usuarios que realizaron transacciones en cada distrito en un día determinado\n",
    "conn = conectionDB()\n",
    "cursor = conn.cursor();\n",
    "\n",
    "query = \"\"\"\n",
    "SELECT merchant_district, COUNT(DISTINCT id)\n",
    "FROM BBVA\n",
    "WHERE (merchant_province = 'LIMA') AND (date BETWEEN '2017-10-30 22:59:59+00:00' AND '2017-10-31 22:59:59+00:00')\n",
    "GROUP BY merchant_district;\n",
    "\"\"\"\n",
    "\n",
    "cursor.execute(query);\n",
    "rows = cursor.fetchall()\n",
    "usuarios = pd.read_sql(query, conn) # storing the query in a pandas dataframe\n",
    "print(usuarios)"
   ]
  },
  {
   "cell_type": "code",
   "execution_count": 32,
   "metadata": {},
   "outputs": [],
   "source": [
    "export_usuarios = usuarios.to_excel (r'C:\\Users\\LENOVO\\Documents\\Maestría_Informática\\Trabajo_Final\\tabla_usuariosVO.xlsx', index = None, header=True) "
   ]
  },
  {
   "cell_type": "code",
   "execution_count": 53,
   "metadata": {},
   "outputs": [
    {
     "data": {
      "text/html": [
       "<div>\n",
       "<style scoped>\n",
       "    .dataframe tbody tr th:only-of-type {\n",
       "        vertical-align: middle;\n",
       "    }\n",
       "\n",
       "    .dataframe tbody tr th {\n",
       "        vertical-align: top;\n",
       "    }\n",
       "\n",
       "    .dataframe thead th {\n",
       "        text-align: right;\n",
       "    }\n",
       "</style>\n",
       "<table border=\"1\" class=\"dataframe\">\n",
       "  <thead>\n",
       "    <tr style=\"text-align: right;\">\n",
       "      <th></th>\n",
       "      <th>Distrito</th>\n",
       "      <th>Poblacion</th>\n",
       "      <th>Dens_Pob</th>\n",
       "      <th>Porc_Pob</th>\n",
       "      <th>Num_Usrs</th>\n",
       "      <th>Porc_Usrs</th>\n",
       "    </tr>\n",
       "  </thead>\n",
       "  <tbody>\n",
       "    <tr>\n",
       "      <th>0</th>\n",
       "      <td>Lima</td>\n",
       "      <td>265693</td>\n",
       "      <td>12088</td>\n",
       "      <td>2.895882</td>\n",
       "      <td>4668</td>\n",
       "      <td>4.252605</td>\n",
       "    </tr>\n",
       "    <tr>\n",
       "      <th>1</th>\n",
       "      <td>Ancón</td>\n",
       "      <td>41474</td>\n",
       "      <td>139</td>\n",
       "      <td>0.452040</td>\n",
       "      <td>21</td>\n",
       "      <td>0.019131</td>\n",
       "    </tr>\n",
       "    <tr>\n",
       "      <th>2</th>\n",
       "      <td>Ate</td>\n",
       "      <td>661786</td>\n",
       "      <td>8515</td>\n",
       "      <td>7.213040</td>\n",
       "      <td>1981</td>\n",
       "      <td>1.804715</td>\n",
       "    </tr>\n",
       "    <tr>\n",
       "      <th>3</th>\n",
       "      <td>Barranco</td>\n",
       "      <td>28970</td>\n",
       "      <td>8700</td>\n",
       "      <td>0.315754</td>\n",
       "      <td>1362</td>\n",
       "      <td>1.240799</td>\n",
       "    </tr>\n",
       "    <tr>\n",
       "      <th>4</th>\n",
       "      <td>Breña</td>\n",
       "      <td>74711</td>\n",
       "      <td>23202</td>\n",
       "      <td>0.814302</td>\n",
       "      <td>687</td>\n",
       "      <td>0.625865</td>\n",
       "    </tr>\n",
       "  </tbody>\n",
       "</table>\n",
       "</div>"
      ],
      "text/plain": [
       "   Distrito  Poblacion  Dens_Pob  Porc_Pob  Num_Usrs  Porc_Usrs\n",
       "0      Lima     265693     12088  2.895882      4668   4.252605\n",
       "1     Ancón      41474       139  0.452040        21   0.019131\n",
       "2       Ate     661786      8515  7.213040      1981   1.804715\n",
       "3  Barranco      28970      8700  0.315754      1362   1.240799\n",
       "4     Breña      74711     23202  0.814302       687   0.625865"
      ]
     },
     "execution_count": 53,
     "metadata": {},
     "output_type": "execute_result"
    }
   ],
   "source": [
    "datos_usuarios = pd.read_excel (r'C:\\Users\\LENOVO\\Documents\\Maestría_Informática\\Trabajo_Final\\tabla_usuarios.xlsx', sheet_name='Hoja1')\n",
    "datos_usuarios.head()  "
   ]
  },
  {
   "cell_type": "markdown",
   "metadata": {},
   "source": [
    "A continuación, se compara el número de usuarios que realizaron alguna transacción en un día determinado con la cantidad de personas que sería necesario seleccionar para conformar una muestra aleatoria en cada distrito. La muestra aleatoria es seleccionada tomando como parámetros un margen de error del 2% y un intervalo de confianza igual al 99%."
   ]
  },
  {
   "cell_type": "code",
   "execution_count": 54,
   "metadata": {},
   "outputs": [],
   "source": [
    "import sample_size\n",
    "import math\n",
    "margin_error = 0.02\n",
    "confidence_level = 0.99\n",
    "muestra = []\n",
    "for pob in datos_usuarios['Poblacion']:\n",
    "    muestra.append(math.ceil(sample_size.sampleSize(pob,margin_error,confidence_level)))\n",
    "\n",
    "datos_usuarios['Muestra'] = muestra"
   ]
  },
  {
   "cell_type": "code",
   "execution_count": 55,
   "metadata": {},
   "outputs": [
    {
     "data": {
      "text/html": [
       "<div>\n",
       "<style scoped>\n",
       "    .dataframe tbody tr th:only-of-type {\n",
       "        vertical-align: middle;\n",
       "    }\n",
       "\n",
       "    .dataframe tbody tr th {\n",
       "        vertical-align: top;\n",
       "    }\n",
       "\n",
       "    .dataframe thead th {\n",
       "        text-align: right;\n",
       "    }\n",
       "</style>\n",
       "<table border=\"1\" class=\"dataframe\">\n",
       "  <thead>\n",
       "    <tr style=\"text-align: right;\">\n",
       "      <th></th>\n",
       "      <th>Distrito</th>\n",
       "      <th>Poblacion</th>\n",
       "      <th>Dens_Pob</th>\n",
       "      <th>Porc_Pob</th>\n",
       "      <th>Num_Usrs</th>\n",
       "      <th>Porc_Usrs</th>\n",
       "      <th>Muestra</th>\n",
       "    </tr>\n",
       "  </thead>\n",
       "  <tbody>\n",
       "    <tr>\n",
       "      <th>0</th>\n",
       "      <td>Lima</td>\n",
       "      <td>265693</td>\n",
       "      <td>12088</td>\n",
       "      <td>2.895882</td>\n",
       "      <td>4668</td>\n",
       "      <td>4.252605</td>\n",
       "      <td>4084</td>\n",
       "    </tr>\n",
       "    <tr>\n",
       "      <th>1</th>\n",
       "      <td>Ancón</td>\n",
       "      <td>41474</td>\n",
       "      <td>139</td>\n",
       "      <td>0.452040</td>\n",
       "      <td>21</td>\n",
       "      <td>0.019131</td>\n",
       "      <td>3771</td>\n",
       "    </tr>\n",
       "    <tr>\n",
       "      <th>2</th>\n",
       "      <td>Ate</td>\n",
       "      <td>661786</td>\n",
       "      <td>8515</td>\n",
       "      <td>7.213040</td>\n",
       "      <td>1981</td>\n",
       "      <td>1.804715</td>\n",
       "      <td>4122</td>\n",
       "    </tr>\n",
       "    <tr>\n",
       "      <th>3</th>\n",
       "      <td>Barranco</td>\n",
       "      <td>28970</td>\n",
       "      <td>8700</td>\n",
       "      <td>0.315754</td>\n",
       "      <td>1362</td>\n",
       "      <td>1.240799</td>\n",
       "      <td>3629</td>\n",
       "    </tr>\n",
       "    <tr>\n",
       "      <th>4</th>\n",
       "      <td>Breña</td>\n",
       "      <td>74711</td>\n",
       "      <td>23202</td>\n",
       "      <td>0.814302</td>\n",
       "      <td>687</td>\n",
       "      <td>0.625865</td>\n",
       "      <td>3930</td>\n",
       "    </tr>\n",
       "  </tbody>\n",
       "</table>\n",
       "</div>"
      ],
      "text/plain": [
       "   Distrito  Poblacion  Dens_Pob  Porc_Pob  Num_Usrs  Porc_Usrs  Muestra\n",
       "0      Lima     265693     12088  2.895882      4668   4.252605     4084\n",
       "1     Ancón      41474       139  0.452040        21   0.019131     3771\n",
       "2       Ate     661786      8515  7.213040      1981   1.804715     4122\n",
       "3  Barranco      28970      8700  0.315754      1362   1.240799     3629\n",
       "4     Breña      74711     23202  0.814302       687   0.625865     3930"
      ]
     },
     "execution_count": 55,
     "metadata": {},
     "output_type": "execute_result"
    }
   ],
   "source": [
    "datos_usuarios.head()"
   ]
  },
  {
   "cell_type": "code",
   "execution_count": 72,
   "metadata": {},
   "outputs": [
    {
     "data": {
      "image/png": "[encoded data removed]",
      "text/plain": [
       "<matplotlib.figure.Figure at 0x25ec1f8b668>"
      ]
     },
     "metadata": {},
     "output_type": "display_data"
    }
   ],
   "source": [
    "x = np.arange(datos_usuarios.shape[0])\n",
    "ax1 = plt.subplots(1,1,figsize=(20,6))\n",
    "w = 0.4\n",
    "plt.xticks(x + w /2, datos_usuarios['Distrito'], rotation='vertical')\n",
    "sample = plt.bar(x, datos_usuarios['Muestra'], width=w, color='b', align='center')\n",
    "users = plt.bar(x + w, datos_usuarios['Num_Usrs'], width=w,color='r', align='center')\n",
    "plt.ylabel('No. de personas')\n",
    "plt.legend([sample, users],['Muestra Necesaria', 'Número de Usuarios'])\n",
    "plt.show()"
   ]
  },
  {
   "cell_type": "code",
   "execution_count": 49,
   "metadata": {},
   "outputs": [
    {
     "data": {
      "text/plain": [
       "648.7401579267271"
      ]
     },
     "execution_count": 49,
     "metadata": {},
     "output_type": "execute_result"
    }
   ],
   "source": [
    "sample_size.sampleSize(28970,0.05,0.99)"
   ]
  },
  {
   "cell_type": "code",
   "execution_count": null,
   "metadata": {},
   "outputs": [],
   "source": []
  }
 ],
 "metadata": {
  "kernelspec": {
   "display_name": "Python 3",
   "language": "python",
   "name": "python3"
  },
  "language_info": {
   "codemirror_mode": {
    "name": "ipython",
    "version": 3
   },
   "file_extension": ".py",
   "mimetype": "text/x-python",
   "name": "python",
   "nbconvert_exporter": "python",
   "pygments_lexer": "ipython3",
   "version": "3.6.4"
  }
 },
 "nbformat": 4,
 "nbformat_minor": 2
}
